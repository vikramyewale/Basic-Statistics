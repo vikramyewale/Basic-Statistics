{
 "cells": [
  {
   "cell_type": "code",
   "execution_count": 1,
   "id": "933bb2c3",
   "metadata": {},
   "outputs": [],
   "source": [
    "import numpy as np\n",
    "import pandas as pd\n",
    "import statistics"
   ]
  },
  {
   "cell_type": "markdown",
   "id": "6752033e",
   "metadata": {},
   "source": [
    "# 1.\tThe time required for servicing transmissions is normally distributed with  = 45 minutes and  = 8 minutes. The service manager plans to have work begin on the transmission of a customer’s car 10 minutes after the car is dropped off and the customer is told that the car will be ready within 1 hour from drop-off. What is the probability that the service manager cannot meet his commitment? "
   ]
  },
  {
   "cell_type": "code",
   "execution_count": 2,
   "id": "b2942e4b",
   "metadata": {},
   "outputs": [
    {
     "data": {
      "text/plain": [
       "0.625"
      ]
     },
     "execution_count": 2,
     "metadata": {},
     "output_type": "execute_result"
    }
   ],
   "source": [
    "#z-score\n",
    "(60 - 55)/8"
   ]
  },
  {
   "cell_type": "code",
   "execution_count": 3,
   "id": "d6f6ac04",
   "metadata": {},
   "outputs": [
    {
     "data": {
      "text/plain": [
       "0.26598552904870054"
      ]
     },
     "execution_count": 3,
     "metadata": {},
     "output_type": "execute_result"
    }
   ],
   "source": [
    "from scipy import stats\n",
    "1-stats.norm.cdf(60,55,8)"
   ]
  },
  {
   "cell_type": "markdown",
   "id": "257cb12e",
   "metadata": {},
   "source": [
    "# =========================================================="
   ]
  },
  {
   "cell_type": "markdown",
   "id": "41e01e4e",
   "metadata": {},
   "source": [
    "# 2.\tThe current age (in years) of 400 clerical employees at an insurance claims processing center is normally distributed with mean  = 38 and Standard deviation  =6. For each statement below, please specify True/False. If false, briefly explain why.\n",
    "A.\tMore employees at the processing center are older than 44 than between 38 and 44.\n",
    "\n",
    "\n",
    "B.\tA training program for employees under the age of 30 at the center would be expected to attract about 36 employees.\n"
   ]
  },
  {
   "cell_type": "code",
   "execution_count": 4,
   "id": "aa98674d",
   "metadata": {},
   "outputs": [],
   "source": [
    "# mean=38\n",
    "#Std=6"
   ]
  },
  {
   "cell_type": "code",
   "execution_count": 6,
   "id": "c050e03c",
   "metadata": {},
   "outputs": [
    {
     "name": "stdout",
     "output_type": "stream",
     "text": [
      "z score for 44= 1.0\n",
      "z score for 38= 0.0\n"
     ]
    }
   ],
   "source": [
    "#z-score for 44 and 38\n",
    "print ('z score for 44=',(44 - 38)/6)\n",
    "print ('z score for 38=',(38 - 38)/6)"
   ]
  },
  {
   "cell_type": "code",
   "execution_count": 7,
   "id": "ede9aca6",
   "metadata": {},
   "outputs": [
    {
     "data": {
      "text/plain": [
       "0.8413447460685429"
      ]
     },
     "execution_count": 7,
     "metadata": {},
     "output_type": "execute_result"
    }
   ],
   "source": [
    "#People above 44 age\n",
    "(stats.norm.cdf(44,38,6))"
   ]
  },
  {
   "cell_type": "code",
   "execution_count": 8,
   "id": "f2568a1e",
   "metadata": {},
   "outputs": [
    {
     "data": {
      "text/plain": [
       "0.5"
      ]
     },
     "execution_count": 8,
     "metadata": {},
     "output_type": "execute_result"
    }
   ],
   "source": [
    "#for 38 age\n",
    "(stats.norm.cdf(38,38,6))"
   ]
  },
  {
   "cell_type": "code",
   "execution_count": 9,
   "id": "a60ec630",
   "metadata": {},
   "outputs": [
    {
     "data": {
      "text/plain": [
       "136.53789842741716"
      ]
     },
     "execution_count": 9,
     "metadata": {},
     "output_type": "execute_result"
    }
   ],
   "source": [
    "#between 38 and 44 outoff 400\n",
    "((stats.norm.cdf(44,38,6))-(stats.norm.cdf(38,38,6)))*400"
   ]
  },
  {
   "cell_type": "markdown",
   "id": "bf0d5617",
   "metadata": {},
   "source": [
    "### Hence More employees at the processing center are older than 44 than between 38 and 44. is FALSE"
   ]
  },
  {
   "cell_type": "code",
   "execution_count": 10,
   "id": "4abc8fe8",
   "metadata": {},
   "outputs": [
    {
     "data": {
      "text/plain": [
       "36.484487890347154"
      ]
     },
     "execution_count": 10,
     "metadata": {},
     "output_type": "execute_result"
    }
   ],
   "source": [
    "#employees under the age of 30 outoff 400\n",
    "(stats.norm.cdf(30,38,6))*400"
   ]
  },
  {
   "cell_type": "markdown",
   "id": "a80af81a",
   "metadata": {},
   "source": [
    "### Hence A training program for employees under the age of 30 at the center would be expected to attract about 36 employees - TRUE"
   ]
  },
  {
   "cell_type": "markdown",
   "id": "5b3ffbea",
   "metadata": {},
   "source": [
    "# ====================================================="
   ]
  },
  {
   "cell_type": "markdown",
   "id": "32d5badd",
   "metadata": {},
   "source": [
    "# 4.\tLet X ~ N(100, 202). Find two values, a and b, symmetric about the mean, such that the probability of the random variable taking a value between them is 0.99. "
   ]
  },
  {
   "cell_type": "code",
   "execution_count": 35,
   "id": "c071c755",
   "metadata": {},
   "outputs": [],
   "source": [
    "#mean=100\n",
    "#N=202\n",
    "#p(a<x<b) = 0.99"
   ]
  },
  {
   "cell_type": "code",
   "execution_count": 38,
   "id": "c98ed4be",
   "metadata": {},
   "outputs": [
    {
     "data": {
      "text/plain": [
       "-2.575829303548901"
      ]
     },
     "execution_count": 38,
     "metadata": {},
     "output_type": "execute_result"
    }
   ],
   "source": [
    "#z for 0.5\n",
    "z_a=stats.norm.ppf(0.005)\n",
    "z_a"
   ]
  },
  {
   "cell_type": "code",
   "execution_count": 40,
   "id": "c485c727",
   "metadata": {},
   "outputs": [
    {
     "data": {
      "text/plain": [
       "2.5758293035489004"
      ]
     },
     "execution_count": 40,
     "metadata": {},
     "output_type": "execute_result"
    }
   ],
   "source": [
    "z_b=stats.norm.ppf(0.995)\n",
    "z_b"
   ]
  },
  {
   "cell_type": "code",
   "execution_count": 41,
   "id": "b0b2463c",
   "metadata": {},
   "outputs": [],
   "source": [
    "#z=(x - 100)/20 \n",
    "#x = 20z+100"
   ]
  },
  {
   "cell_type": "code",
   "execution_count": 42,
   "id": "0acb543b",
   "metadata": {},
   "outputs": [],
   "source": [
    "#for a\n",
    "#a = -(20*2.576) + 100\n",
    "#= 48.5"
   ]
  },
  {
   "cell_type": "code",
   "execution_count": 43,
   "id": "fe2f2180",
   "metadata": {},
   "outputs": [],
   "source": [
    "#for b\n",
    "#b = (20*2.576) + 100\n",
    "#= 151.5"
   ]
  },
  {
   "cell_type": "markdown",
   "id": "2f499523",
   "metadata": {},
   "source": [
    "# ======================================================="
   ]
  },
  {
   "cell_type": "markdown",
   "id": "301e8d89",
   "metadata": {},
   "source": [
    "# 5.\tConsider a company that has two different divisions. The annual profits from the two divisions are independent and have distributions Profit1 ~ N(5, 32) and Profit2 ~ N(7, 42) respectively. Both the profits are in Million. Answer the following questions about the total profit of the company in Rupees. Assume that  1 = Rs. 45\n",
    "A.\tSpecify a Rupee range (centered on the mean) such that it contains 95% probability for the annual profit of the company.\n",
    "\n",
    "B.\tSpecify the 5th percentile of profit (in Rupees) for the company\n",
    "\n",
    "C.\tWhich of the two divisions has a larger probability of making a loss in a given year?\n"
   ]
  },
  {
   "cell_type": "code",
   "execution_count": 46,
   "id": "166ec2de",
   "metadata": {},
   "outputs": [
    {
     "name": "stdout",
     "output_type": "stream",
     "text": [
      "Mean Profit is Rs 540 Million\n"
     ]
    }
   ],
   "source": [
    "# Total mean porfit of company\n",
    "company1=5*45\n",
    "company2=7*45\n",
    "Total_Mean=company1+company2\n",
    "print('Mean Profit is Rs', Total_Mean,'Million')"
   ]
  },
  {
   "cell_type": "code",
   "execution_count": 54,
   "id": "1a3390c9",
   "metadata": {},
   "outputs": [
    {
     "name": "stdout",
     "output_type": "stream",
     "text": [
      "Standard Deviation is Rs 225.0 Million\n"
     ]
    }
   ],
   "source": [
    "Std=np.sqrt((9)+(16))\n",
    "Total_Std=Std*45\n",
    "print('Standard Deviation is Rs', Total_Std, 'Million')"
   ]
  },
  {
   "cell_type": "markdown",
   "id": "da235111",
   "metadata": {},
   "source": [
    "#### A. Specify a Rupee range (centered on the mean) such that it contains 95% probability for the annual profit of the company.(in million)"
   ]
  },
  {
   "cell_type": "code",
   "execution_count": 55,
   "id": "3765e54a",
   "metadata": {},
   "outputs": [
    {
     "data": {
      "text/plain": [
       "(99.00810347848784, 980.9918965215122)"
      ]
     },
     "execution_count": 55,
     "metadata": {},
     "output_type": "execute_result"
    }
   ],
   "source": [
    "stats.norm.interval(0.95,540,225)"
   ]
  },
  {
   "cell_type": "markdown",
   "id": "6022165c",
   "metadata": {},
   "source": [
    "#### B. Specify the 5th percentile of profit (in Rupees) for the company"
   ]
  },
  {
   "cell_type": "code",
   "execution_count": 58,
   "id": "e4898686",
   "metadata": {},
   "outputs": [
    {
     "data": {
      "text/plain": [
       "169.875"
      ]
     },
     "execution_count": 58,
     "metadata": {},
     "output_type": "execute_result"
    }
   ],
   "source": [
    "#X=μ + Zσ ......z=-1.645(from z table)\n",
    "X= 540+(-1.645)*(225)\n",
    "X"
   ]
  },
  {
   "cell_type": "markdown",
   "id": "72c99c03",
   "metadata": {},
   "source": [
    "#### C. Which of the two divisions has a larger probability of making a loss in a given year?"
   ]
  },
  {
   "cell_type": "code",
   "execution_count": 59,
   "id": "4c806305",
   "metadata": {},
   "outputs": [
    {
     "data": {
      "text/plain": [
       "0.0477903522728147"
      ]
     },
     "execution_count": 59,
     "metadata": {},
     "output_type": "execute_result"
    }
   ],
   "source": [
    "#Company 1\n",
    "#p(x<0)\n",
    "stats.norm.cdf(0,5,3)"
   ]
  },
  {
   "cell_type": "code",
   "execution_count": 61,
   "id": "8b052de9",
   "metadata": {},
   "outputs": [
    {
     "data": {
      "text/plain": [
       "0.040059156863817086"
      ]
     },
     "execution_count": 61,
     "metadata": {},
     "output_type": "execute_result"
    }
   ],
   "source": [
    "#Company 2\n",
    "#p(X<0)\n",
    "stats.norm.cdf(0,7,4)"
   ]
  },
  {
   "cell_type": "code",
   "execution_count": null,
   "id": "484c809c",
   "metadata": {},
   "outputs": [],
   "source": []
  }
 ],
 "metadata": {
  "kernelspec": {
   "display_name": "Python 3 (ipykernel)",
   "language": "python",
   "name": "python3"
  },
  "language_info": {
   "codemirror_mode": {
    "name": "ipython",
    "version": 3
   },
   "file_extension": ".py",
   "mimetype": "text/x-python",
   "name": "python",
   "nbconvert_exporter": "python",
   "pygments_lexer": "ipython3",
   "version": "3.9.12"
  }
 },
 "nbformat": 4,
 "nbformat_minor": 5
}
